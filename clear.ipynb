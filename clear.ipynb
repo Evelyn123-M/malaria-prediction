{
 "cells": [
  {
   "cell_type": "code",
   "execution_count": 1,
   "id": "b0e3fee9",
   "metadata": {},
   "outputs": [],
   "source": [
    "import pandas as pd\n",
    "from sklearn.preprocessing import LabelEncoder, StandardScaler\n",
    "import numpy as np"
   ]
  },
  {
   "cell_type": "code",
   "execution_count": 3,
   "id": "bea690c3",
   "metadata": {},
   "outputs": [],
   "source": [
    "df = pd.read_csv(r\"C:\\Users\\user\\Desktop\\python final project\\malaria dataset.csv\")"
   ]
  },
  {
   "cell_type": "code",
   "execution_count": 4,
   "id": "85d94174",
   "metadata": {},
   "outputs": [],
   "source": [
    "df.dropna(inplace=True)"
   ]
  },
  {
   "cell_type": "code",
   "execution_count": 41,
   "id": "fa650227",
   "metadata": {},
   "outputs": [],
   "source": [
    "df.drop_duplicates(inplace=True)"
   ]
  },
  {
   "cell_type": "code",
   "execution_count": 43,
   "id": "a57335eb",
   "metadata": {},
   "outputs": [
    {
     "data": {
      "text/plain": [
       "ISO3                   0\n",
       "Name                   0\n",
       "Admin Level            0\n",
       "Metric                 0\n",
       "Units                  0\n",
       "Year                   0\n",
       "Value                  0\n",
       "Log_Value              0\n",
       "ISO3_Encoded           0\n",
       "Name_Encoded           0\n",
       "Admin Level_Encoded    0\n",
       "Metric_Encoded         0\n",
       "Units_Encoded          0\n",
       "dtype: int64"
      ]
     },
     "execution_count": 43,
     "metadata": {},
     "output_type": "execute_result"
    }
   ],
   "source": [
    "df.isnull().sum()"
   ]
  },
  {
   "cell_type": "code",
   "execution_count": 44,
   "id": "c1483f1f",
   "metadata": {},
   "outputs": [
    {
     "data": {
      "text/plain": [
       "<bound method DataFrame.__dataframe__ of      ISO3         Name Admin Level          Metric                    Units  \\\n",
       "0     AFG  Afghanistan      admin0  Incidence Rate       Cases per Thousand   \n",
       "1     AFG  Afghanistan      admin0  Incidence Rate       Cases per Thousand   \n",
       "2     AFG  Afghanistan      admin0  Incidence Rate       Cases per Thousand   \n",
       "3     AFG  Afghanistan      admin0  Incidence Rate       Cases per Thousand   \n",
       "4     AFG  Afghanistan      admin0  Incidence Rate       Cases per Thousand   \n",
       "...   ...          ...         ...             ...                      ...   \n",
       "3493  ZWE     Zimbabwe      admin0  Mortality Rate  Deaths per 100 Thousand   \n",
       "3494  ZWE     Zimbabwe      admin0  Mortality Rate  Deaths per 100 Thousand   \n",
       "3495  ZWE     Zimbabwe      admin0  Mortality Rate  Deaths per 100 Thousand   \n",
       "3496  ZWE     Zimbabwe      admin0  Mortality Rate  Deaths per 100 Thousand   \n",
       "3497  ZWE     Zimbabwe      admin0  Mortality Rate  Deaths per 100 Thousand   \n",
       "\n",
       "      Year      Value  Log_Value  ISO3_Encoded  Name_Encoded  \\\n",
       "0     2010   1.176667   0.777795             0             0   \n",
       "1     2011   1.053869   0.719725             0             0   \n",
       "2     2012   0.213129   0.193203             0             0   \n",
       "3     2013   0.367701   0.313131             0             0   \n",
       "4     2014   0.653501   0.502895             0             0   \n",
       "...    ...        ...        ...           ...           ...   \n",
       "3493  2016  17.548997   2.920416           105           104   \n",
       "3494  2017  26.484462   3.313621           105           104   \n",
       "3495  2018  14.745261   2.756539           105           104   \n",
       "3496  2019  11.955043   2.561485           105           104   \n",
       "3497  2020  17.838731   2.935915           105           104   \n",
       "\n",
       "      Admin Level_Encoded  Metric_Encoded  Units_Encoded  \n",
       "0                       0               0              0  \n",
       "1                       0               0              0  \n",
       "2                       0               0              0  \n",
       "3                       0               0              0  \n",
       "4                       0               0              0  \n",
       "...                   ...             ...            ...  \n",
       "3493                    0               2              1  \n",
       "3494                    0               2              1  \n",
       "3495                    0               2              1  \n",
       "3496                    0               2              1  \n",
       "3497                    0               2              1  \n",
       "\n",
       "[3498 rows x 13 columns]>"
      ]
     },
     "execution_count": 44,
     "metadata": {},
     "output_type": "execute_result"
    }
   ],
   "source": [
    "df.__dataframe__"
   ]
  },
  {
   "cell_type": "code",
   "execution_count": 45,
   "id": "b41e9ede",
   "metadata": {},
   "outputs": [],
   "source": [
    "df_cleaned = df.copy()# Make sure you have a DataFrame named df_cleaned before saving\n",
    "df.to_csv('cleaned_data.csv', index=False)"
   ]
  },
  {
   "cell_type": "code",
   "execution_count": 5,
   "id": "950d54c2",
   "metadata": {},
   "outputs": [],
   "source": [
    "df.columns = df.columns.str.strip()\n",
    "df['Admin Level'] = df['Admin Level'].str.strip()\n",
    "df['Metric'] = df['Metric'].str.strip()\n",
    "df['Units'] = df['Units'].str.strip()"
   ]
  },
  {
   "cell_type": "code",
   "execution_count": 6,
   "id": "ff0f3ce1",
   "metadata": {},
   "outputs": [],
   "source": [
    "df['Log_Value'] = np.log1p(df['Value']) "
   ]
  },
  {
   "cell_type": "code",
   "execution_count": 7,
   "id": "f5f59bb6",
   "metadata": {},
   "outputs": [],
   "source": [
    "label_encoders = {}\n",
    "for col in ['ISO3', 'Name', 'Admin Level', 'Metric', 'Units']:\n",
    "    le = LabelEncoder()\n",
    "    df[col + '_Encoded'] = le.fit_transform(df[col])\n",
    "    label_encoders[col] = le"
   ]
  },
  {
   "cell_type": "code",
   "execution_count": 8,
   "id": "af974b63",
   "metadata": {},
   "outputs": [],
   "source": [
    "scaler = StandardScaler()\n",
    "df['Value_Scaled'] = scaler.fit_transform(df[['Value']])\n",
    "df['Log_Value_Scaled'] = scaler.fit_transform(df[['Log_Value']])"
   ]
  },
  {
   "cell_type": "code",
   "execution_count": 9,
   "id": "dabab0aa",
   "metadata": {},
   "outputs": [
    {
     "name": "stdout",
     "output_type": "stream",
     "text": [
      "  ISO3         Name Admin Level          Metric               Units  Year  \\\n",
      "0  AFG  Afghanistan      admin0  Incidence Rate  Cases per Thousand  2010   \n",
      "1  AFG  Afghanistan      admin0  Incidence Rate  Cases per Thousand  2011   \n",
      "2  AFG  Afghanistan      admin0  Incidence Rate  Cases per Thousand  2012   \n",
      "3  AFG  Afghanistan      admin0  Incidence Rate  Cases per Thousand  2013   \n",
      "4  AFG  Afghanistan      admin0  Incidence Rate  Cases per Thousand  2014   \n",
      "\n",
      "      Value  Log_Value  ISO3_Encoded  Name_Encoded  Admin Level_Encoded  \\\n",
      "0  1.176667   0.777795             0             0                    0   \n",
      "1  1.053869   0.719725             0             0                    0   \n",
      "2  0.213129   0.193203             0             0                    0   \n",
      "3  0.367701   0.313131             0             0                    0   \n",
      "4  0.653501   0.502895             0             0                    0   \n",
      "\n",
      "   Metric_Encoded  Units_Encoded  Value_Scaled  Log_Value_Scaled  \n",
      "0               0              0     -0.440191         -0.461080  \n",
      "1               0              0     -0.441593         -0.490139  \n",
      "2               0              0     -0.451186         -0.753625  \n",
      "3               0              0     -0.449422         -0.693610  \n",
      "4               0              0     -0.446161         -0.598647  \n"
     ]
    }
   ],
   "source": [
    "print(df.head())"
   ]
  },
  {
   "cell_type": "code",
   "execution_count": 10,
   "id": "3b883198",
   "metadata": {},
   "outputs": [
    {
     "name": "stdout",
     "output_type": "stream",
     "text": [
      "Descriptive Statistics:\n",
      "              Value    Log_Value\n",
      "count  3498.000000  3498.000000\n",
      "mean     39.754021     1.699167\n",
      "std      87.650217     1.998577\n",
      "min       0.000000     0.000000\n",
      "25%       0.000106     0.000106\n",
      "50%       0.649028     0.500183\n",
      "75%      29.595486     3.420847\n",
      "max     571.289202     6.349644\n"
     ]
    }
   ],
   "source": [
    "desc_stats = df[['Value', 'Log_Value']].describe()\n",
    "print(\"Descriptive Statistics:\\n\", desc_stats)\n"
   ]
  },
  {
   "cell_type": "code",
   "execution_count": 11,
   "id": "6ec2dfe8",
   "metadata": {},
   "outputs": [],
   "source": [
    "import seaborn as sns\n",
    "import matplotlib.pyplot as plt"
   ]
  },
  {
   "cell_type": "code",
   "execution_count": 12,
   "id": "3e4c22e4",
   "metadata": {},
   "outputs": [
    {
     "data": {
      "image/png": "[encoded data removed]",
      "text/plain": [
       "<Figure size 1400x500 with 2 Axes>"
      ]
     },
     "metadata": {},
     "output_type": "display_data"
    }
   ],
   "source": [
    "plt.figure(figsize=(14, 5))\n",
    "\n",
    "plt.subplot(1, 2, 1)\n",
    "sns.histplot(df['Value'], bins=50, kde=True)\n",
    "plt.title('Distribution of Malaria Value')\n",
    "plt.xlabel('Value')\n",
    "\n",
    "plt.subplot(1, 2, 2)\n",
    "sns.histplot(df['Log_Value'], bins=50, kde=True, color='orange')\n",
    "plt.title('Distribution of Log-Transformed Value')\n",
    "plt.xlabel('Log(Value)')\n",
    "\n",
    "plt.tight_layout()\n",
    "plt.show()"
   ]
  },
  {
   "cell_type": "code",
   "execution_count": 13,
   "id": "99e3563c",
   "metadata": {},
   "outputs": [
    {
     "data": {
      "image/png": "[encoded data removed]",
      "text/plain": [
       "<Figure size 1000x600 with 1 Axes>"
      ]
     },
     "metadata": {},
     "output_type": "display_data"
    }
   ],
   "source": [
    "plt.figure(figsize=(10, 6))\n",
    "sns.boxplot(x='Metric', y='Value', data=df)\n",
    "plt.title('Value Distribution by Metric')\n",
    "plt.xticks(rotation=15)\n",
    "plt.tight_layout()\n",
    "plt.show()\n"
   ]
  },
  {
   "cell_type": "code",
   "execution_count": 14,
   "id": "0c5a4ea9",
   "metadata": {},
   "outputs": [
    {
     "data": {
      "image/png": "[encoded data removed]",
      "text/plain": [
       "<Figure size 1000x500 with 1 Axes>"
      ]
     },
     "metadata": {},
     "output_type": "display_data"
    }
   ],
   "source": [
    "plt.figure(figsize=(10, 5))\n",
    "sns.lineplot(data=df, x='Year', y='Value', hue='Metric')\n",
    "plt.title('Malaria Value Over Time by Metric')\n",
    "plt.tight_layout()\n",
    "plt.show()"
   ]
  },
  {
   "cell_type": "code",
   "execution_count": 15,
   "id": "ff37467c",
   "metadata": {},
   "outputs": [],
   "source": [
    "import pandas as pd\n",
    "import numpy as np\n",
    "from sklearn.preprocessing import LabelEncoder\n",
    "from sklearn.model_selection import train_test_split\n",
    "from sklearn.ensemble import RandomForestRegressor\n",
    "from sklearn.metrics import mean_squared_error, r2_score"
   ]
  },
  {
   "cell_type": "code",
   "execution_count": 16,
   "id": "0dbb63a1",
   "metadata": {},
   "outputs": [],
   "source": [
    "df = pd.read_csv(\"malaria dataset.csv\")"
   ]
  },
  {
   "cell_type": "code",
   "execution_count": 46,
   "id": "cc603c0e",
   "metadata": {},
   "outputs": [],
   "source": [
    "df['Log_Value'] = np.log1p(df['Value'])"
   ]
  },
  {
   "cell_type": "code",
   "execution_count": 17,
   "id": "35bb78db",
   "metadata": {},
   "outputs": [],
   "source": [
    "label_columns = ['ISO3', 'Name', 'Admin Level', 'Metric', 'Units']\n",
    "for col in label_columns:\n",
    "    le = LabelEncoder()\n",
    "    df[col + '_Encoded'] = le.fit_transform(df[col])\n"
   ]
  },
  {
   "cell_type": "code",
   "execution_count": 18,
   "id": "968dea21",
   "metadata": {},
   "outputs": [],
   "source": [
    "features = ['ISO3_Encoded', 'Name_Encoded', 'Admin Level_Encoded',\n",
    "            'Metric_Encoded', 'Units_Encoded', 'Year']\n",
    "X = df[features]\n",
    "y = df['Value'] "
   ]
  },
  {
   "cell_type": "code",
   "execution_count": 19,
   "id": "c27c1f2f",
   "metadata": {},
   "outputs": [],
   "source": [
    "X_train, X_test, y_train, y_test = train_test_split(X, y, test_size=0.2, random_state=42)"
   ]
  },
  {
   "cell_type": "code",
   "execution_count": 20,
   "id": "60db886e",
   "metadata": {},
   "outputs": [
    {
     "data": {
      "text/html": [
       "<style>#sk-container-id-1 {\n",
       "  /* Definition of color scheme common for light and dark mode */\n",
       "  --sklearn-color-text: black;\n",
       "  --sklearn-color-line: gray;\n",
       "  /* Definition of color scheme for unfitted estimators */\n",
       "  --sklearn-color-unfitted-level-0: #fff5e6;\n",
       "  --sklearn-color-unfitted-level-1: #f6e4d2;\n",
       "  --sklearn-color-unfitted-level-2: #ffe0b3;\n",
       "  --sklearn-color-unfitted-level-3: chocolate;\n",
       "  /* Definition of color scheme for fitted estimators */\n",
       "  --sklearn-color-fitted-level-0: #f0f8ff;\n",
       "  --sklearn-color-fitted-level-1: #d4ebff;\n",
       "  --sklearn-color-fitted-level-2: #b3dbfd;\n",
       "  --sklearn-color-fitted-level-3: cornflowerblue;\n",
       "\n",
       "  /* Specific color for light theme */\n",
       "  --sklearn-color-text-on-default-background: var(--sg-text-color, var(--theme-code-foreground, var(--jp-content-font-color1, black)));\n",
       "  --sklearn-color-background: var(--sg-background-color, var(--theme-background, var(--jp-layout-color0, white)));\n",
       "  --sklearn-color-border-box: var(--sg-text-color, var(--theme-code-foreground, var(--jp-content-font-color1, black)));\n",
       "  --sklearn-color-icon: #696969;\n",
       "\n",
       "  @media (prefers-color-scheme: dark) {\n",
       "    /* Redefinition of color scheme for dark theme */\n",
       "    --sklearn-color-text-on-default-background: var(--sg-text-color, var(--theme-code-foreground, var(--jp-content-font-color1, white)));\n",
       "    --sklearn-color-background: var(--sg-background-color, var(--theme-background, var(--jp-layout-color0, #111)));\n",
       "    --sklearn-color-border-box: var(--sg-text-color, var(--theme-code-foreground, var(--jp-content-font-color1, white)));\n",
       "    --sklearn-color-icon: #878787;\n",
       "  }\n",
       "}\n",
       "\n",
       "#sk-container-id-1 {\n",
       "  color: var(--sklearn-color-text);\n",
       "}\n",
       "\n",
       "#sk-container-id-1 pre {\n",
       "  padding: 0;\n",
       "}\n",
       "\n",
       "#sk-container-id-1 input.sk-hidden--visually {\n",
       "  border: 0;\n",
       "  clip: rect(1px 1px 1px 1px);\n",
       "  clip: rect(1px, 1px, 1px, 1px);\n",
       "  height: 1px;\n",
       "  margin: -1px;\n",
       "  overflow: hidden;\n",
       "  padding: 0;\n",
       "  position: absolute;\n",
       "  width: 1px;\n",
       "}\n",
       "\n",
       "#sk-container-id-1 div.sk-dashed-wrapped {\n",
       "  border: 1px dashed var(--sklearn-color-line);\n",
       "  margin: 0 0.4em 0.5em 0.4em;\n",
       "  box-sizing: border-box;\n",
       "  padding-bottom: 0.4em;\n",
       "  background-color: var(--sklearn-color-background);\n",
       "}\n",
       "\n",
       "#sk-container-id-1 div.sk-container {\n",
       "  /* jupyter's `normalize.less` sets `[hidden] { display: none; }`\n",
       "     but bootstrap.min.css set `[hidden] { display: none !important; }`\n",
       "     so we also need the `!important` here to be able to override the\n",
       "     default hidden behavior on the sphinx rendered scikit-learn.org.\n",
       "     See: https://github.com/scikit-learn/scikit-learn/issues/21755 */\n",
       "  display: inline-block !important;\n",
       "  position: relative;\n",
       "}\n",
       "\n",
       "#sk-container-id-1 div.sk-text-repr-fallback {\n",
       "  display: none;\n",
       "}\n",
       "\n",
       "div.sk-parallel-item,\n",
       "div.sk-serial,\n",
       "div.sk-item {\n",
       "  /* draw centered vertical line to link estimators */\n",
       "  background-image: linear-gradient(var(--sklearn-color-text-on-default-background), var(--sklearn-color-text-on-default-background));\n",
       "  background-size: 2px 100%;\n",
       "  background-repeat: no-repeat;\n",
       "  background-position: center center;\n",
       "}\n",
       "\n",
       "/* Parallel-specific style estimator block */\n",
       "\n",
       "#sk-container-id-1 div.sk-parallel-item::after {\n",
       "  content: \"\";\n",
       "  width: 100%;\n",
       "  border-bottom: 2px solid var(--sklearn-color-text-on-default-background);\n",
       "  flex-grow: 1;\n",
       "}\n",
       "\n",
       "#sk-container-id-1 div.sk-parallel {\n",
       "  display: flex;\n",
       "  align-items: stretch;\n",
       "  justify-content: center;\n",
       "  background-color: var(--sklearn-color-background);\n",
       "  position: relative;\n",
       "}\n",
       "\n",
       "#sk-container-id-1 div.sk-parallel-item {\n",
       "  display: flex;\n",
       "  flex-direction: column;\n",
       "}\n",
       "\n",
       "#sk-container-id-1 div.sk-parallel-item:first-child::after {\n",
       "  align-self: flex-end;\n",
       "  width: 50%;\n",
       "}\n",
       "\n",
       "#sk-container-id-1 div.sk-parallel-item:last-child::after {\n",
       "  align-self: flex-start;\n",
       "  width: 50%;\n",
       "}\n",
       "\n",
       "#sk-container-id-1 div.sk-parallel-item:only-child::after {\n",
       "  width: 0;\n",
       "}\n",
       "\n",
       "/* Serial-specific style estimator block */\n",
       "\n",
       "#sk-container-id-1 div.sk-serial {\n",
       "  display: flex;\n",
       "  flex-direction: column;\n",
       "  align-items: center;\n",
       "  background-color: var(--sklearn-color-background);\n",
       "  padding-right: 1em;\n",
       "  padding-left: 1em;\n",
       "}\n",
       "\n",
       "\n",
       "/* Toggleable style: style used for estimator/Pipeline/ColumnTransformer box that is\n",
       "clickable and can be expanded/collapsed.\n",
       "- Pipeline and ColumnTransformer use this feature and define the default style\n",
       "- Estimators will overwrite some part of the style using the `sk-estimator` class\n",
       "*/\n",
       "\n",
       "/* Pipeline and ColumnTransformer style (default) */\n",
       "\n",
       "#sk-container-id-1 div.sk-toggleable {\n",
       "  /* Default theme specific background. It is overwritten whether we have a\n",
       "  specific estimator or a Pipeline/ColumnTransformer */\n",
       "  background-color: var(--sklearn-color-background);\n",
       "}\n",
       "\n",
       "/* Toggleable label */\n",
       "#sk-container-id-1 label.sk-toggleable__label {\n",
       "  cursor: pointer;\n",
       "  display: block;\n",
       "  width: 100%;\n",
       "  margin-bottom: 0;\n",
       "  padding: 0.5em;\n",
       "  box-sizing: border-box;\n",
       "  text-align: center;\n",
       "}\n",
       "\n",
       "#sk-container-id-1 label.sk-toggleable__label-arrow:before {\n",
       "  /* Arrow on the left of the label */\n",
       "  content: \"▸\";\n",
       "  float: left;\n",
       "  margin-right: 0.25em;\n",
       "  color: var(--sklearn-color-icon);\n",
       "}\n",
       "\n",
       "#sk-container-id-1 label.sk-toggleable__label-arrow:hover:before {\n",
       "  color: var(--sklearn-color-text);\n",
       "}\n",
       "\n",
       "/* Toggleable content - dropdown */\n",
       "\n",
       "#sk-container-id-1 div.sk-toggleable__content {\n",
       "  max-height: 0;\n",
       "  max-width: 0;\n",
       "  overflow: hidden;\n",
       "  text-align: left;\n",
       "  /* unfitted */\n",
       "  background-color: var(--sklearn-color-unfitted-level-0);\n",
       "}\n",
       "\n",
       "#sk-container-id-1 div.sk-toggleable__content.fitted {\n",
       "  /* fitted */\n",
       "  background-color: var(--sklearn-color-fitted-level-0);\n",
       "}\n",
       "\n",
       "#sk-container-id-1 div.sk-toggleable__content pre {\n",
       "  margin: 0.2em;\n",
       "  border-radius: 0.25em;\n",
       "  color: var(--sklearn-color-text);\n",
       "  /* unfitted */\n",
       "  background-color: var(--sklearn-color-unfitted-level-0);\n",
       "}\n",
       "\n",
       "#sk-container-id-1 div.sk-toggleable__content.fitted pre {\n",
       "  /* unfitted */\n",
       "  background-color: var(--sklearn-color-fitted-level-0);\n",
       "}\n",
       "\n",
       "#sk-container-id-1 input.sk-toggleable__control:checked~div.sk-toggleable__content {\n",
       "  /* Expand drop-down */\n",
       "  max-height: 200px;\n",
       "  max-width: 100%;\n",
       "  overflow: auto;\n",
       "}\n",
       "\n",
       "#sk-container-id-1 input.sk-toggleable__control:checked~label.sk-toggleable__label-arrow:before {\n",
       "  content: \"▾\";\n",
       "}\n",
       "\n",
       "/* Pipeline/ColumnTransformer-specific style */\n",
       "\n",
       "#sk-container-id-1 div.sk-label input.sk-toggleable__control:checked~label.sk-toggleable__label {\n",
       "  color: var(--sklearn-color-text);\n",
       "  background-color: var(--sklearn-color-unfitted-level-2);\n",
       "}\n",
       "\n",
       "#sk-container-id-1 div.sk-label.fitted input.sk-toggleable__control:checked~label.sk-toggleable__label {\n",
       "  background-color: var(--sklearn-color-fitted-level-2);\n",
       "}\n",
       "\n",
       "/* Estimator-specific style */\n",
       "\n",
       "/* Colorize estimator box */\n",
       "#sk-container-id-1 div.sk-estimator input.sk-toggleable__control:checked~label.sk-toggleable__label {\n",
       "  /* unfitted */\n",
       "  background-color: var(--sklearn-color-unfitted-level-2);\n",
       "}\n",
       "\n",
       "#sk-container-id-1 div.sk-estimator.fitted input.sk-toggleable__control:checked~label.sk-toggleable__label {\n",
       "  /* fitted */\n",
       "  background-color: var(--sklearn-color-fitted-level-2);\n",
       "}\n",
       "\n",
       "#sk-container-id-1 div.sk-label label.sk-toggleable__label,\n",
       "#sk-container-id-1 div.sk-label label {\n",
       "  /* The background is the default theme color */\n",
       "  color: var(--sklearn-color-text-on-default-background);\n",
       "}\n",
       "\n",
       "/* On hover, darken the color of the background */\n",
       "#sk-container-id-1 div.sk-label:hover label.sk-toggleable__label {\n",
       "  color: var(--sklearn-color-text);\n",
       "  background-color: var(--sklearn-color-unfitted-level-2);\n",
       "}\n",
       "\n",
       "/* Label box, darken color on hover, fitted */\n",
       "#sk-container-id-1 div.sk-label.fitted:hover label.sk-toggleable__label.fitted {\n",
       "  color: var(--sklearn-color-text);\n",
       "  background-color: var(--sklearn-color-fitted-level-2);\n",
       "}\n",
       "\n",
       "/* Estimator label */\n",
       "\n",
       "#sk-container-id-1 div.sk-label label {\n",
       "  font-family: monospace;\n",
       "  font-weight: bold;\n",
       "  display: inline-block;\n",
       "  line-height: 1.2em;\n",
       "}\n",
       "\n",
       "#sk-container-id-1 div.sk-label-container {\n",
       "  text-align: center;\n",
       "}\n",
       "\n",
       "/* Estimator-specific */\n",
       "#sk-container-id-1 div.sk-estimator {\n",
       "  font-family: monospace;\n",
       "  border: 1px dotted var(--sklearn-color-border-box);\n",
       "  border-radius: 0.25em;\n",
       "  box-sizing: border-box;\n",
       "  margin-bottom: 0.5em;\n",
       "  /* unfitted */\n",
       "  background-color: var(--sklearn-color-unfitted-level-0);\n",
       "}\n",
       "\n",
       "#sk-container-id-1 div.sk-estimator.fitted {\n",
       "  /* fitted */\n",
       "  background-color: var(--sklearn-color-fitted-level-0);\n",
       "}\n",
       "\n",
       "/* on hover */\n",
       "#sk-container-id-1 div.sk-estimator:hover {\n",
       "  /* unfitted */\n",
       "  background-color: var(--sklearn-color-unfitted-level-2);\n",
       "}\n",
       "\n",
       "#sk-container-id-1 div.sk-estimator.fitted:hover {\n",
       "  /* fitted */\n",
       "  background-color: var(--sklearn-color-fitted-level-2);\n",
       "}\n",
       "\n",
       "/* Specification for estimator info (e.g. \"i\" and \"?\") */\n",
       "\n",
       "/* Common style for \"i\" and \"?\" */\n",
       "\n",
       ".sk-estimator-doc-link,\n",
       "a:link.sk-estimator-doc-link,\n",
       "a:visited.sk-estimator-doc-link {\n",
       "  float: right;\n",
       "  font-size: smaller;\n",
       "  line-height: 1em;\n",
       "  font-family: monospace;\n",
       "  background-color: var(--sklearn-color-background);\n",
       "  border-radius: 1em;\n",
       "  height: 1em;\n",
       "  width: 1em;\n",
       "  text-decoration: none !important;\n",
       "  margin-left: 1ex;\n",
       "  /* unfitted */\n",
       "  border: var(--sklearn-color-unfitted-level-1) 1pt solid;\n",
       "  color: var(--sklearn-color-unfitted-level-1);\n",
       "}\n",
       "\n",
       ".sk-estimator-doc-link.fitted,\n",
       "a:link.sk-estimator-doc-link.fitted,\n",
       "a:visited.sk-estimator-doc-link.fitted {\n",
       "  /* fitted */\n",
       "  border: var(--sklearn-color-fitted-level-1) 1pt solid;\n",
       "  color: var(--sklearn-color-fitted-level-1);\n",
       "}\n",
       "\n",
       "/* On hover */\n",
       "div.sk-estimator:hover .sk-estimator-doc-link:hover,\n",
       ".sk-estimator-doc-link:hover,\n",
       "div.sk-label-container:hover .sk-estimator-doc-link:hover,\n",
       ".sk-estimator-doc-link:hover {\n",
       "  /* unfitted */\n",
       "  background-color: var(--sklearn-color-unfitted-level-3);\n",
       "  color: var(--sklearn-color-background);\n",
       "  text-decoration: none;\n",
       "}\n",
       "\n",
       "div.sk-estimator.fitted:hover .sk-estimator-doc-link.fitted:hover,\n",
       ".sk-estimator-doc-link.fitted:hover,\n",
       "div.sk-label-container:hover .sk-estimator-doc-link.fitted:hover,\n",
       ".sk-estimator-doc-link.fitted:hover {\n",
       "  /* fitted */\n",
       "  background-color: var(--sklearn-color-fitted-level-3);\n",
       "  color: var(--sklearn-color-background);\n",
       "  text-decoration: none;\n",
       "}\n",
       "\n",
       "/* Span, style for the box shown on hovering the info icon */\n",
       ".sk-estimator-doc-link span {\n",
       "  display: none;\n",
       "  z-index: 9999;\n",
       "  position: relative;\n",
       "  font-weight: normal;\n",
       "  right: .2ex;\n",
       "  padding: .5ex;\n",
       "  margin: .5ex;\n",
       "  width: min-content;\n",
       "  min-width: 20ex;\n",
       "  max-width: 50ex;\n",
       "  color: var(--sklearn-color-text);\n",
       "  box-shadow: 2pt 2pt 4pt #999;\n",
       "  /* unfitted */\n",
       "  background: var(--sklearn-color-unfitted-level-0);\n",
       "  border: .5pt solid var(--sklearn-color-unfitted-level-3);\n",
       "}\n",
       "\n",
       ".sk-estimator-doc-link.fitted span {\n",
       "  /* fitted */\n",
       "  background: var(--sklearn-color-fitted-level-0);\n",
       "  border: var(--sklearn-color-fitted-level-3);\n",
       "}\n",
       "\n",
       ".sk-estimator-doc-link:hover span {\n",
       "  display: block;\n",
       "}\n",
       "\n",
       "/* \"?\"-specific style due to the `<a>` HTML tag */\n",
       "\n",
       "#sk-container-id-1 a.estimator_doc_link {\n",
       "  float: right;\n",
       "  font-size: 1rem;\n",
       "  line-height: 1em;\n",
       "  font-family: monospace;\n",
       "  background-color: var(--sklearn-color-background);\n",
       "  border-radius: 1rem;\n",
       "  height: 1rem;\n",
       "  width: 1rem;\n",
       "  text-decoration: none;\n",
       "  /* unfitted */\n",
       "  color: var(--sklearn-color-unfitted-level-1);\n",
       "  border: var(--sklearn-color-unfitted-level-1) 1pt solid;\n",
       "}\n",
       "\n",
       "#sk-container-id-1 a.estimator_doc_link.fitted {\n",
       "  /* fitted */\n",
       "  border: var(--sklearn-color-fitted-level-1) 1pt solid;\n",
       "  color: var(--sklearn-color-fitted-level-1);\n",
       "}\n",
       "\n",
       "/* On hover */\n",
       "#sk-container-id-1 a.estimator_doc_link:hover {\n",
       "  /* unfitted */\n",
       "  background-color: var(--sklearn-color-unfitted-level-3);\n",
       "  color: var(--sklearn-color-background);\n",
       "  text-decoration: none;\n",
       "}\n",
       "\n",
       "#sk-container-id-1 a.estimator_doc_link.fitted:hover {\n",
       "  /* fitted */\n",
       "  background-color: var(--sklearn-color-fitted-level-3);\n",
       "}\n",
       "</style><div id=\"sk-container-id-1\" class=\"sk-top-container\"><div class=\"sk-text-repr-fallback\"><pre>RandomForestRegressor(random_state=42)</pre><b>In a Jupyter environment, please rerun this cell to show the HTML representation or trust the notebook. <br />On GitHub, the HTML representation is unable to render, please try loading this page with nbviewer.org.</b></div><div class=\"sk-container\" hidden><div class=\"sk-item\"><div class=\"sk-estimator fitted sk-toggleable\"><input class=\"sk-toggleable__control sk-hidden--visually\" id=\"sk-estimator-id-1\" type=\"checkbox\" checked><label for=\"sk-estimator-id-1\" class=\"sk-toggleable__label fitted sk-toggleable__label-arrow fitted\">&nbsp;&nbsp;RandomForestRegressor<a class=\"sk-estimator-doc-link fitted\" rel=\"noreferrer\" target=\"_blank\" href=\"https://scikit-learn.org/1.5/modules/generated/sklearn.ensemble.RandomForestRegressor.html\">?<span>Documentation for RandomForestRegressor</span></a><span class=\"sk-estimator-doc-link fitted\">i<span>Fitted</span></span></label><div class=\"sk-toggleable__content fitted\"><pre>RandomForestRegressor(random_state=42)</pre></div> </div></div></div></div>"
      ],
      "text/plain": [
       "RandomForestRegressor(random_state=42)"
      ]
     },
     "execution_count": 20,
     "metadata": {},
     "output_type": "execute_result"
    }
   ],
   "source": [
    "model = RandomForestRegressor(n_estimators=100, random_state=42)\n",
    "model.fit(X_train, y_train)"
   ]
  },
  {
   "cell_type": "code",
   "execution_count": 21,
   "id": "ad79f44b",
   "metadata": {},
   "outputs": [],
   "source": [
    "y_pred = model.predict(X_test)"
   ]
  },
  {
   "cell_type": "code",
   "execution_count": 22,
   "id": "e842822b",
   "metadata": {},
   "outputs": [],
   "source": [
    "mse = mean_squared_error(y_test, y_pred)\n",
    "r2 = r2_score(y_test, y_pred)\n"
   ]
  },
  {
   "cell_type": "code",
   "execution_count": 23,
   "id": "27fdc167",
   "metadata": {},
   "outputs": [
    {
     "name": "stdout",
     "output_type": "stream",
     "text": [
      "Mean Squared Error (MSE): 138.50624846942083\n",
      "R² Score (Accuracy): 0.9832442388262332\n"
     ]
    }
   ],
   "source": [
    "print(\"Mean Squared Error (MSE):\", mse)\n",
    "print(\"R² Score (Accuracy):\", r2)"
   ]
  },
  {
   "cell_type": "code",
   "execution_count": 24,
   "id": "03c94800",
   "metadata": {},
   "outputs": [],
   "source": [
    "from sklearn.metrics import mean_absolute_error, mean_squared_error, r2_score\n",
    "import numpy as np"
   ]
  },
  {
   "cell_type": "code",
   "execution_count": 25,
   "id": "bc6b908d",
   "metadata": {},
   "outputs": [],
   "source": [
    "mae = mean_absolute_error(y_test, y_pred)\n",
    "mse = mean_squared_error(y_test, y_pred)\n",
    "rmse = np.sqrt(mse)\n",
    "r2 = r2_score(y_test, y_pred)"
   ]
  },
  {
   "cell_type": "code",
   "execution_count": 26,
   "id": "94286dc4",
   "metadata": {},
   "outputs": [
    {
     "name": "stdout",
     "output_type": "stream",
     "text": [
      "Model Evaluation Results:\n",
      "Mean Absolute Error (MAE): 3.94\n",
      "Mean Squared Error (MSE): 138.51\n",
      "Root Mean Squared Error (RMSE): 11.77\n",
      "R² Score (Accuracy): 0.9832\n"
     ]
    }
   ],
   "source": [
    "print(\"Model Evaluation Results:\")\n",
    "print(\"Mean Absolute Error (MAE):\", round(mae, 2))\n",
    "print(\"Mean Squared Error (MSE):\", round(mse, 2))\n",
    "print(\"Root Mean Squared Error (RMSE):\", round(rmse, 2))\n",
    "print(\"R² Score (Accuracy):\", round(r2, 4))"
   ]
  },
  {
   "cell_type": "code",
   "execution_count": 27,
   "id": "cf7579a4",
   "metadata": {},
   "outputs": [],
   "source": [
    "import pandas as pd\n",
    "import numpy as np\n",
    "from sklearn.model_selection import train_test_split\n",
    "from sklearn.preprocessing import LabelEncoder\n",
    "from sklearn.ensemble import RandomForestRegressor\n",
    "from sklearn.metrics import mean_absolute_error, mean_squared_error, r2_score"
   ]
  },
  {
   "cell_type": "code",
   "execution_count": 61,
   "id": "6ab5f94a",
   "metadata": {},
   "outputs": [],
   "source": [
    "def load_and_preprocess(filepath):\n",
    "    \"\"\"Load dataset and apply preprocessing: log transformation and label encoding.\"\"\"\n",
    "    df = pd.read_csv(r\"C:\\Users\\user\\Desktop\\python final project\\malaria dataset.csv\")\n"
   ]
  },
  {
   "cell_type": "code",
   "execution_count": 28,
   "id": "cfd0ed3a",
   "metadata": {},
   "outputs": [],
   "source": [
    " df['Log_Value'] = np.log1p(df['Value'])"
   ]
  },
  {
   "cell_type": "code",
   "execution_count": 29,
   "id": "bfb6f78a",
   "metadata": {},
   "outputs": [],
   "source": [
    "def load_and_preprocess(filepath):\n",
    "    \"\"\"Load dataset and apply preprocessing: log transformation and label encoding.\"\"\"\n",
    "    df = pd.read_csv(r\"C:\\Users\\user\\Desktop\\python final project\\malaria dataset.csv\")\n",
    "    df['Log_Value'] = np.log1p(df['Value'])\n",
    "    label_columns = ['ISO3', 'Name', 'Admin Level', 'Metric', 'Units']\n",
    "    for col in label_columns:\n",
    "        le = LabelEncoder()\n",
    "        df[col + '_Encoded'] = le.fit_transform(df[col])\n",
    "    return df"
   ]
  },
  {
   "cell_type": "code",
   "execution_count": 30,
   "id": "38fa05b2",
   "metadata": {},
   "outputs": [],
   "source": [
    "def train_model(df, target='Value'):\n",
    "    \"\"\"Train a Random Forest model using encoded features.\"\"\"\n",
    "    features = ['ISO3_Encoded', 'Name_Encoded', 'Admin Level_Encoded',\n",
    "                'Metric_Encoded', 'Units_Encoded', 'Year']\n",
    "    \n",
    "    X = df[features]\n",
    "    y = df[target]\n"
   ]
  },
  {
   "cell_type": "code",
   "execution_count": 69,
   "id": "db232e04",
   "metadata": {},
   "outputs": [],
   "source": [
    " X_train, X_test, y_train, y_test = train_test_split(X, y, test_size=0.2, random_state=42)"
   ]
  },
  {
   "cell_type": "code",
   "execution_count": 31,
   "id": "61484626",
   "metadata": {},
   "outputs": [],
   "source": [
    "def train_model(df, target='Value'):\n",
    "    \"\"\"Train a Random Forest model using encoded features.\"\"\"\n",
    "    features = ['ISO3_Encoded', 'Name_Encoded', 'Admin Level_Encoded',\n",
    "                'Metric_Encoded', 'Units_Encoded', 'Year']\n",
    "    X = df[features]\n",
    "    y = df[target]\n",
    "\n",
    "    X_train, X_test, y_train, y_test = train_test_split(X, y, test_size=0.2, random_state=42)\n",
    "    model = RandomForestRegressor(n_estimators=100, random_state=42)\n",
    "    model.fit(X_train, y_train)\n",
    "\n",
    "    return model, X_test, y_test\n"
   ]
  },
  {
   "cell_type": "code",
   "execution_count": 32,
   "id": "1dfccbed",
   "metadata": {},
   "outputs": [],
   "source": [
    "def evaluate_model(model, X_test, y_test):\n",
    "    \"\"\"Evaluate the model and return common regression metrics.\"\"\"\n",
    "    y_pred = model.predict(X_test)\n",
    "\n",
    "    mae = mean_absolute_error(y_test, y_pred)\n",
    "    mse = mean_squared_error(y_test, y_pred)\n",
    "    rmse = np.sqrt(mse)\n",
    "    r2 = r2_score(y_test, y_pred)"
   ]
  },
  {
   "cell_type": "code",
   "execution_count": 33,
   "id": "ac5e7914",
   "metadata": {},
   "outputs": [
    {
     "name": "stdout",
     "output_type": "stream",
     "text": [
      "📈 Model Evaluation Metrics:\n",
      "Mean Absolute Error (MAE): 3.94\n",
      "Mean Squared Error (MSE): 138.51\n",
      "Root Mean Squared Error (RMSE): 11.77\n",
      "R² Score (Accuracy): 0.9832\n"
     ]
    }
   ],
   "source": [
    " print(\"📈 Model Evaluation Metrics:\")\n",
    " print(f\"Mean Absolute Error (MAE): {mae:.2f}\")\n",
    " print(f\"Mean Squared Error (MSE): {mse:.2f}\")\n",
    " print(f\"Root Mean Squared Error (RMSE): {rmse:.2f}\")\n",
    "print(f\"R² Score (Accuracy): {r2:.4f}\")\n"
   ]
  },
  {
   "cell_type": "code",
   "execution_count": 34,
   "id": "f0901cc9",
   "metadata": {},
   "outputs": [],
   "source": [
    "if __name__ == \"__main__\":\n",
    "    filepath = \"malaria dataset.csv\""
   ]
  },
  {
   "cell_type": "code",
   "execution_count": 35,
   "id": "543342c9",
   "metadata": {},
   "outputs": [
    {
     "name": "stdout",
     "output_type": "stream",
     "text": [
      "🔄 Loading and Preprocessing Data...\n"
     ]
    }
   ],
   "source": [
    " print(\"🔄 Loading and Preprocessing Data...\")\n",
    "df = load_and_preprocess(r\"C:\\Users\\user\\Desktop\\python final project\\malaria dataset.csv\")\n"
   ]
  },
  {
   "cell_type": "code",
   "execution_count": 36,
   "id": "1c6213c4",
   "metadata": {},
   "outputs": [
    {
     "name": "stdout",
     "output_type": "stream",
     "text": [
      "🚧 Training the Model...\n"
     ]
    }
   ],
   "source": [
    " print(\"🚧 Training the Model...\")\n",
    " model, X_test, y_test = train_model(df)"
   ]
  },
  {
   "cell_type": "code",
   "execution_count": 37,
   "id": "4b260837",
   "metadata": {},
   "outputs": [
    {
     "name": "stdout",
     "output_type": "stream",
     "text": [
      "✅ Evaluating the Model...\n"
     ]
    }
   ],
   "source": [
    "print(\"✅ Evaluating the Model...\")\n",
    "evaluate_model(model, X_test, y_test)"
   ]
  },
  {
   "cell_type": "code",
   "execution_count": 80,
   "id": "5ad85c77",
   "metadata": {},
   "outputs": [],
   "source": [
    "import pandas as pd\n",
    "import numpy as np\n",
    "from sklearn.model_selection import train_test_split\n",
    "from sklearn.preprocessing import LabelEncoder\n",
    "from sklearn.ensemble import RandomForestRegressor, GradientBoostingRegressor, ExtraTreesRegressor, StackingRegressor\n",
    "from sklearn.linear_model import Ridge\n",
    "from sklearn.metrics import mean_squared_error, mean_absolute_error, r2_score\n"
   ]
  },
  {
   "cell_type": "code",
   "execution_count": 82,
   "id": "d0bd5159",
   "metadata": {},
   "outputs": [],
   "source": [
    "def load_and_preprocess(filepath):\n",
    "    df = pd.read_csv(filepath)\n",
    "    df['Log_Value'] = np.log1p(df['Value'])"
   ]
  },
  {
   "cell_type": "code",
   "execution_count": 85,
   "id": "a45b0aea",
   "metadata": {},
   "outputs": [],
   "source": [
    "for col in ['ISO3', 'Name', 'Admin Level', 'Metric', 'Units']:\n",
    "        df[col + '_Encoded'] = LabelEncoder().fit_transform(df[col])\n",
    "\n"
   ]
  },
  {
   "cell_type": "code",
   "execution_count": 86,
   "id": "38b2f6d5",
   "metadata": {},
   "outputs": [],
   "source": [
    "def train_stacked_model(df, target='Value'):\n",
    "    features = ['ISO3_Encoded', 'Name_Encoded', 'Admin Level_Encoded',\n",
    "                'Metric_Encoded', 'Units_Encoded', 'Year']\n",
    "    X = df[features]\n",
    "    y = df[target]"
   ]
  },
  {
   "cell_type": "code",
   "execution_count": 87,
   "id": "57f4de3b",
   "metadata": {},
   "outputs": [],
   "source": [
    " X_train, X_test, y_train, y_test = train_test_split(X, y, test_size=0.2, random_state=42)\n"
   ]
  },
  {
   "cell_type": "code",
   "execution_count": 88,
   "id": "cab6c5c8",
   "metadata": {},
   "outputs": [],
   "source": [
    " base_models = [\n",
    "        ('rf', RandomForestRegressor(n_estimators=100, random_state=42)),\n",
    "        ('gb', GradientBoostingRegressor(n_estimators=100, random_state=42)),\n",
    "        ('et', ExtraTreesRegressor(n_estimators=100, random_state=42))\n",
    "    ]\n"
   ]
  },
  {
   "cell_type": "code",
   "execution_count": 89,
   "id": "324d0151",
   "metadata": {},
   "outputs": [],
   "source": [
    "  meta_model = Ridge(alpha=1.0)"
   ]
  },
  {
   "cell_type": "code",
   "execution_count": 93,
   "id": "ecd7ac5a",
   "metadata": {},
   "outputs": [],
   "source": [
    "\n",
    "def train_stacked_model(X_train, y_train, X_test, y_test, base_models, meta_model):\n",
    "    stacked_model = StackingRegressor(estimators=base_models, final_estimator=meta_model, passthrough=True)\n",
    "    stacked_model.fit(X_train, y_train)\n",
    "    return stacked_model, X_test, y_test\n"
   ]
  },
  {
   "cell_type": "code",
   "execution_count": 94,
   "id": "7856d818",
   "metadata": {},
   "outputs": [],
   "source": [
    "def evaluate_model(model, X_test, y_test):\n",
    "    y_pred = model.predict(X_test)\n",
    "\n",
    "    mae = mean_absolute_error(y_test, y_pred)\n",
    "    mse = mean_squared_error(y_test, y_pred)\n",
    "    rmse = np.sqrt(mse)\n",
    "    r2 = r2_score(y_test, y_pred)"
   ]
  },
  {
   "cell_type": "code",
   "execution_count": 95,
   "id": "a3ab24df",
   "metadata": {},
   "outputs": [
    {
     "name": "stdout",
     "output_type": "stream",
     "text": [
      "📈 Stacked Model Evaluation:\n",
      "MAE:  3.94\n",
      "MSE:  138.51\n",
      "RMSE: 11.77\n",
      "R²:   0.9832\n"
     ]
    }
   ],
   "source": [
    " print(\"📈 Stacked Model Evaluation:\")\n",
    " print(f\"MAE:  {mae:.2f}\")\n",
    " print(f\"MSE:  {mse:.2f}\")\n",
    " print(f\"RMSE: {rmse:.2f}\")\n",
    "print(f\"R²:   {r2:.4f}\")\n"
   ]
  },
  {
   "cell_type": "code",
   "execution_count": null,
   "id": "bb35d844",
   "metadata": {},
   "outputs": [],
   "source": [
    " import seaborn as sns\n",
    "from sklearn.model_selection import train_test_split\n",
    "from sklearn.preprocessing import LabelEncoder\n",
    "from sklearn.ensemble import (\n",
    "    RandomForestRegressor,\n",
    "    GradientBoostingRegressor,\n",
    "    ExtraTreesRegressor,\n",
    "    StackingRegressor\n",
    ")\n",
    "from sklearn.linear_model import Ridge\n",
    "from sklearn.metrics import mean_absolute_error, mean_squared_error, r2_score"
   ]
  },
  {
   "cell_type": "code",
   "execution_count": 4,
   "id": "62a74d07",
   "metadata": {},
   "outputs": [],
   "source": [
    " base_models = [\n",
    "        ('rf', RandomForestRegressor(n_estimators=100, random_state=42)),\n",
    "        ('gb', GradientBoostingRegressor(n_estimators=100, random_state=42)),\n",
    "        ('et', ExtraTreesRegressor(n_estimators=100, random_state=42))\n",
    "    ]"
   ]
  },
  {
   "cell_type": "code",
   "execution_count": 5,
   "id": "4bc5047c",
   "metadata": {},
   "outputs": [],
   "source": [
    " meta_model = Ridge(alpha=1.0)\n"
   ]
  },
  {
   "cell_type": "code",
   "execution_count": 9,
   "id": "9e6f7b58",
   "metadata": {},
   "outputs": [],
   "source": [
    "def evaluate_model(model, X_test, y_test):\n",
    "    y_pred = model.predict(X_test)\n",
    "    mae = mean_absolute_error(y_test, y_pred)\n",
    "    mse = mean_squared_error(y_test, y_pred)\n",
    "    rmse = np.sqrt(mse)\n",
    "    r2 = r2_score(y_test, y_pred)"
   ]
  },
  {
   "cell_type": "code",
   "execution_count": null,
   "id": "6cf5fab7",
   "metadata": {},
   "outputs": [],
   "source": [
    "def plot_feature_importance(model, feature_names):\n",
    "    \n",
    "    try:\n",
    "        importances = model.named_estimators_['rf'].feature_importances_\n",
    "    except AttributeError:\n",
    "        print(\" Feature importance not available.\")\n",
    "        return"
   ]
  },
  {
   "cell_type": "code",
   "execution_count": 18,
   "id": "87a9e947",
   "metadata": {},
   "outputs": [],
   "source": [
    "import seaborn as sns\n",
    "import matplotlib.pyplot as plt"
   ]
  },
  {
   "cell_type": "code",
   "execution_count": null,
   "id": "6d612094",
   "metadata": {},
   "outputs": [
    {
     "name": "stdout",
     "output_type": "stream",
     "text": [
      "🔄 Loading and Preprocessing Data...\n",
      "⚙️ Training Custom Stacked Ensemble...\n",
      "✅ Evaluating Ensemble Model...\n",
      "\n",
      "📈 Model Evaluation Metrics:\n",
      "MAE:  4.15\n",
      "MSE:  84.99\n",
      "RMSE: 9.22\n",
      "R²:   0.9897\n",
      "📊 Visualizing Feature Importances...\n"
     ]
    },
    {
     "name": "stderr",
     "output_type": "stream",
     "text": [
      "C:\\Users\\user\\AppData\\Local\\Temp\\ipykernel_25560\\2300992460.py:81: FutureWarning: \n",
      "\n",
      "Passing `palette` without assigning `hue` is deprecated and will be removed in v0.14.0. Assign the `y` variable to `hue` and set `legend=False` for the same effect.\n",
      "\n",
      "  sns.barplot(x=importances, y=feature_names, palette='viridis')\n",
      "C:\\Users\\user\\AppData\\Local\\Temp\\ipykernel_25560\\2300992460.py:85: UserWarning: Glyph 128269 (\\N{LEFT-POINTING MAGNIFYING GLASS}) missing from font(s) DejaVu Sans.\n",
      "  plt.tight_layout()\n",
      "c:\\Users\\user\\anaconda4\\Lib\\site-packages\\IPython\\core\\pylabtools.py:170: UserWarning: Glyph 128269 (\\N{LEFT-POINTING MAGNIFYING GLASS}) missing from font(s) DejaVu Sans.\n",
      "  fig.canvas.print_figure(bytes_io, **kw)\n"
     ]
    },
    {
     "data": {
      "image/png": "[encoded data removed]",
      "text/plain": [
       "<Figure size 1000x600 with 1 Axes>"
      ]
     },
     "metadata": {},
     "output_type": "display_data"
    }
   ],
   "source": [
    "_# 📦 Import necessary libraries\n",
    "import pandas as pd\n",
    "import numpy as np\n",
    "import matplotlib.pyplot as plt\n",
    "import seaborn as sns\n",
    "from sklearn.model_selection import train_test_split\n",
    "from sklearn.preprocessing import LabelEncoder\n",
    "from sklearn.ensemble import (\n",
    "    RandomForestRegressor,\n",
    "    GradientBoostingRegressor,\n",
    "    ExtraTreesRegressor,\n",
    "    StackingRegressor\n",
    ")\n",
    "from sklearn.linear_model import Ridge\n",
    "from sklearn.metrics import mean_absolute_error, mean_squared_error, r2_score\n",
    "\n",
    "# 🧹 1. Load and Preprocess the Data\n",
    "def load_and_preprocess(filepath):\n",
    "    df = pd.read_csv(filepath)\n",
    "\n",
    "    # Log transform the target value to handle skewness\n",
    "    df['Log_Value'] = np.log1p(df['Value'])\n",
    "\n",
    "    # Encode categorical features\n",
    "    for col in ['ISO3', 'Name', 'Admin Level', 'Metric', 'Units']:\n",
    "        df[col + '_Encoded'] = LabelEncoder().fit_transform(df[col])\n",
    "    \n",
    "    return df\n",
    "\n",
    "\n",
    "def train_stacked_model(df, target='Value'):\n",
    "    features = ['ISO3_Encoded', 'Name_Encoded', 'Admin Level_Encoded',\n",
    "                'Metric_Encoded', 'Units_Encoded', 'Year']\n",
    "    X = df[features]\n",
    "    y = df[target]\n",
    "\n",
    "    # Split dataset\n",
    "    X_train, X_test, y_train, y_test = train_test_split(X, y, test_size=0.2, random_state=42)\n",
    "\n",
    "    \n",
    "    base_models = [\n",
    "        ('rf', RandomForestRegressor(n_estimators=100, random_state=42)),\n",
    "        ('gb', GradientBoostingRegressor(n_estimators=100, random_state=42)),\n",
    "        ('et', ExtraTreesRegressor(n_estimators=100, random_state=42))\n",
    "    ]\n",
    "\n",
    "\n",
    "    meta_model = Ridge(alpha=1.0)\\\\\n",
    "\n",
    "\n",
    "    model = StackingRegressor(estimators=base_models, final_estimator=meta_model, passthrough=True)\n",
    "    model.fit(X_train, y_train)\n",
    "\n",
    "    return model, X_test, y_test, X_train.columns\n",
    "\n",
    "\n",
    "def evaluate_model(model, X_test, y_test):\n",
    "    y_pred = model.predict(X_test)\n",
    "    mae = mean_absolute_error(y_test, y_pred)\n",
    "    mse = mean_squared_error(y_test, y_pred)\n",
    "    rmse = np.sqrt(mse)\n",
    "    r2 = r2_score(y_test, y_pred)\n",
    "\n",
    "    print(\"\\n📈 Model Evaluation Metrics:\")\n",
    "    print(f\"MAE:  {mae:.2f}\")\n",
    "    print(f\"MSE:  {mse:.2f}\")\n",
    "    print(f\"RMSE: {rmse:.2f}\")\n",
    "    print(f\"R²:   {r2:.4f}\")\n",
    "\n",
    "\n",
    "def plot_feature_importance(model, feature_names):\n",
    "    \n",
    "    try:\n",
    "        importances = model.named_estimators_['rf'].feature_importances_\n",
    "    except AttributeError:\n",
    "        print(\"⚠️ Feature importance not available.\")\n",
    "        return\n",
    "\n",
    "\n",
    "    plt.figure(figsize=(10, 6))\n",
    "    sns.barplot(x=importances, y=feature_names, palette='viridis')\n",
    "    plt.title(\"🔍 Feature Importances from Random Forest\")\n",
    "    plt.xlabel(\"Importance\")\n",
    "    plt.ylabel(\"Feature\")\n",
    "    plt.tight_layout()\n",
    "    plt.show()\n",
    "\n",
    "if __name__ == \"__main__\":\n",
    "    print(\"🔄 Loading and Preprocessing Data...\")\n",
    "    df = load_and_preprocess(\"malaria dataset.csv\")\n",
    "\n",
    "    print(\"⚙️ Training Custom Stacked Ensemble...\")\n",
    "    model, X_test, y_test, feature_names = train_stacked_model(df, target='Value')\n",
    "\n",
    "    print(\"✅ Evaluating Ensemble Model...\")\n",
    "    evaluate_model(model, X_test, y_test)\n",
    "\n",
    "    print(\"📊 Visualizing Feature Importances...\")\n",
    "    plot_feature_importance(model, feature_names)\n"
   ]
  }
 ],
 "metadata": {
  "kernelspec": {
   "display_name": "base",
   "language": "python",
   "name": "python3"
  },
  "language_info": {
   "codemirror_mode": {
    "name": "ipython",
    "version": 3
   },
   "file_extension": ".py",
   "mimetype": "text/x-python",
   "name": "python",
   "nbconvert_exporter": "python",
   "pygments_lexer": "ipython3",
   "version": "3.12.7"
  }
 },
 "nbformat": 4,
 "nbformat_minor": 5
}
